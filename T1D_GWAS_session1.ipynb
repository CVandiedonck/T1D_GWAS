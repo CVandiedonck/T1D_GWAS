{
 "cells": [
  {
   "cell_type": "markdown",
   "metadata": {},
   "source": [
    "# __Génétique Humaine Méthodologie__"
   ]
  },
  {
   "cell_type": "markdown",
   "metadata": {},
   "source": [
    "## **TP: Étude d'association pan-génomique dans le diabète de type 1**\n",
    "### Séance 1\n",
    "*Claire Vandiedonck*\n",
    "\n",
    "\n",
    "\n",
    "<u>Déroulé de l'ensemble du TP (3 séances, 3 notebooks):</u> <i>cette séance 2 porte sur les parties 0 à 2 (en bleu)</i>\n",
    "\n",
    "<blockquote><ul><span style=\"color:blue\">\n",
    "0. Synopsis<br>\n",
    "1. Première partie: Evaluation de la faisabilité de l'étude<br><ul>\n",
    "    1.A. Identification des régions déjà connues pour leur association au DT1 de manière significative<br>\n",
    "    1.B. Calcul de puissance pour retrouver les mêmes régions ou d’autres variants avec effets similaires dans une nouvelle cohorte<br></ul>\n",
    "2. Deuxième partie: Formatage de fichiers de génétique et découverte du logiciel PLINK\n",
    "</span><br>\n",
    "3. Troisième partie: Statistiques descriptives et QC<br>\n",
    "4. Quatrième partie: Analyse d'association génétique cas-contrôles<br>\n",
    "5. Cinquième partie: Analyse d'association familiale</blockquote>\n",
    "\n"
   ]
  },
  {
   "cell_type": "markdown",
   "metadata": {},
   "source": [
    "<div class=\"alert alert-block alert-info\"> \n",
    "    \n",
    "   <u> <b>Travail personnel demandé</b> :</u>\n",
    "\n",
    "Pour vous aider à préparer votre travail personnel au fur et à mesure, voici déjà les instructions sur le <b>compte-rendu </b> de l'ensemble du TP \"Étude d'association pan-génomique dans le diabète de type 1\" que vous devrez rendre sur moodle (la date sera précisée prochainement). Ce rapport ne sera pas un article scientifiques mais il en prendra certains éléments importants. \n",
    "Il incluera les éléments suivants: \n",
    "    \n",
    "[ ] <b>un titre scientifique</b> pertinent sur l'étude réalisée <br>     \n",
    "    \n",
    "[ ] <b>un résumé scientifique en anglais</b> de l'ensemble du TP (300 mots maximum)<br> \n",
    "    \n",
    "[ ] <b> une figure du workflow </b>de l'ensemble du TP que nous vous conseillons d'établir au fur et à mesure dès cette 2ème partie qui reprenne les points essentiels d'une partie \"matériels et méthodes\" d'un aricle.<br>\n",
    "    \n",
    "[ ] <b> deux illustrations scientifiques: tableau(x) et/ou figure(s) de votre choix </b> qui illustreront un aspect du TP: vous veuillerez à ajouter un titre explicite et une légende détaillée.<br>\n",
    "    \n",
    "[ ] <b> un paragraphe </b> décrivant d'une part les résultats des tableau(x)/figure(s) choisi(e)s, et d'autre part discutant de l'ensemble des résultats scientifiques de cette étude<br>\n",
    "\n",
    "Vous pouvez choisir de rendre ce travail sous l'un des <b>formats de votre choix parmi</b>: pdf, .ipynb, ou .html.\n",
    "\n",
    "Le travail sera réalisé <b><u>en binôme</u></b> avec vos deux noms dans le nom du fichier et en haut du document.\n",
    " </div>   "
   ]
  },
  {
   "cell_type": "markdown",
   "metadata": {
    "tags": []
   },
   "source": [
    "## Avant d'aller plus loin\n",
    "---\n",
    "<div class=\"alert alert-block alert-danger\"><b>Attention:</b> \n",
    "Ne travaillez pas directement sur ce notebook pour ne pas le perdre. Dupliquez-le et renommez-le par exemple en ajoutant vos initiales et travaillez sur cette nouvelle copie. Pour ce faire, dans le panneau de gauche, faites un clic droit sur le fichier et sélectionnez \"Duplicate\". Puis, toujours dans la colonne de gauche, faites un clic droit sur cette copie et sélectionnez \"rename\" pour changer le nom. Ouvrez ensuite cette nouvelle version en double cliquant dessus. Vous êtes prêt(e) à démarrer! <br>\n",
    "<br>\n",
    "<b>N'oubliez pas de sauvegarder régulièrement votre notebook</b>: <kbd>Ctrl</kbd> + <kbd>S</kbd>. ou en cliquant sur l'icone 💾 en haut à gauche de votre notebook ou dans le Menu du JupyterLab \"File puis \"Save Notebook\"!\n",
    "</div>"
   ]
  },
  {
   "cell_type": "markdown",
   "metadata": {},
   "source": [
    "<div class=\"alert alert-block alert-info\"> \n",
    "   \n",
    "<b>Rappel :</b> Vous pouvez prendre des notes directement dans ce notebook, en ajoutant une cellule Markdown en cliquant sur l'icône <kbd>➕</kbd> dans la barre des menus, et en choisissant son format dans le menu déroulant. \n",
    "Les astuces pour utiliser les cellules des notebooks sont rappelées tout en bas dans un cadre bleu ⏬.\n",
    "</div>"
   ]
  },
  {
   "cell_type": "markdown",
   "metadata": {},
   "source": [
    "Dans ce TP, vous lancerez chaque cellule l'une après l'autre dans l'ordre. Si vous revenez en arrière et rééxécuter une cellule, veillez à relancer les suivantes. Les cellules sont numérotées dans leur ordre d'éxécution."
   ]
  },
  {
   "cell_type": "markdown",
   "metadata": {},
   "source": [
    "__*=> A propos de ce jupyter notebook*__\n",
    "\n",
    "Pour ce TP, nous aurons besoin d'éxécuter du code **bash** et **R**. On pourrait réaliser le TP directement dans un terminal `bash` en lançant R à la volée. Toutefois, nous préférons utiliser un notebook pour rédiger un rapport computationel. Or un notebook jupyter ne peut contenir qu'un seul langage à la fois. Nous avions trois solutions pour éxécuter malgré tout des commandes bash et R dans le même notebook:\n",
    "\n",
    "**1.** utiliser un notebokk avec un **noyau bash** et éxécuter des commandes `R`, une par une, en tapant `R -e \"myRcommand\"` ou éxecuter un script R contenant plusieurs commandes en tapant `Rscript myscript.R`.\n",
    "\n",
    "**2.** utiliser un notebook avec un **noyau R** et éxécuter des commandes `bash` en invoquant la function `system(\"mybashcommand\")`.\n",
    "\n",
    "**3.** utiliser un notebook avec un **noyau python** et indiquer que les cellules doivent être éxécutées en bash (natif) en ajoutant `%%bash` au début de chaque cellule, et en ajoutant `%%R` au début de chaque cellule `R` après avoir installé et chargé `Rpy2` au début du notebook.\n",
    "\n",
    "=> <mark> Nous avons opté pour cette 3ème option avec un jupyter notebook de type  python </mark> qui a l'avantage de ne pas alourdir les commandes `bash` et `R` et d'être très lisible. Les informations de configuration de ce notebook et de l'environnement jupyterlab associé sont disponibles à ce lien: https://github.com/CVandiedonck/T1D_GWAS_long_version \n",
    "\n",
    "Avant de commencer, nous devons donc charger le module `Rpy2` avec la commande suivante.\n"
   ]
  },
  {
   "cell_type": "code",
   "execution_count": null,
   "metadata": {},
   "outputs": [],
   "source": [
    "#cell 1\n",
    "%load_ext rpy2.ipython"
   ]
  },
  {
   "cell_type": "markdown",
   "metadata": {},
   "source": [
    "Vous pouvez éxécuter cette commande python pour connaître votre répertoire de travail puis lister ce qu'il contient."
   ]
  },
  {
   "cell_type": "code",
   "execution_count": null,
   "metadata": {},
   "outputs": [],
   "source": [
    "# cell 2\n",
    "import os \n",
    "os.getcwd()"
   ]
  },
  {
   "cell_type": "markdown",
   "metadata": {},
   "source": [
    "<div class=\"alert alert-block alert-warning\"><b>Le résultat devrait ressembler à :</b>\"/srv/home/mylogin/meg_m1_ghm_gwas\" avec votre login. Si ce n'est pas le cas, changez de répertoire avec la commande \"os.chdir('path')\" ou applez votre enseignant à l'aide!</div>"
   ]
  },
  {
   "cell_type": "markdown",
   "metadata": {},
   "source": [
    "Pour lister ce qu'il contient, vous pouvez tenter avec les 3 langages:\n",
    "- en python:"
   ]
  },
  {
   "cell_type": "code",
   "execution_count": null,
   "metadata": {},
   "outputs": [],
   "source": [
    "# cell 3\n",
    "os.listdir()"
   ]
  },
  {
   "cell_type": "markdown",
   "metadata": {},
   "source": [
    "- en bash:"
   ]
  },
  {
   "cell_type": "code",
   "execution_count": null,
   "metadata": {},
   "outputs": [],
   "source": [
    "%%bash\n",
    "# cell 4\n",
    "ls"
   ]
  },
  {
   "cell_type": "markdown",
   "metadata": {},
   "source": [
    "- en R:"
   ]
  },
  {
   "cell_type": "code",
   "execution_count": null,
   "metadata": {},
   "outputs": [],
   "source": [
    "%%R\n",
    "# cell 5\n",
    "list.files()"
   ]
  },
  {
   "cell_type": "markdown",
   "metadata": {},
   "source": [
    "\n",
    "## **0 - Synopsis**\n",
    "---\n",
    "\n",
    "### Objectifs du TP\n",
    "\n",
    "Dans cette série de 3 séances de TP, vous allez réaliser une étude d’association génétique dans le diabète de type 1 (DT1) dans une cohorte française au moyen d’outils informatiques et statistiques (Marees  AT et al., 2018).\n",
    "Les sujets d'étude proviennent d'une série de patients atteints de diabète de type 1 et de contrôles sains. Tous les échantillons ont été génotypés au moyen de la puce Illumina immunochip (Trynka et al., 2011, Parkes M. et al., 2013). Au cours de ces séances de TP, vous serez amenés à:\n",
    "- évaluer la la puissance de l'étude\n",
    "- comprendre le format des fichiers de génotypage pour les logiciels d'analyse génétique\n",
    "- effectuer des contrôles de qualité\n",
    "- nettoyer/filtrer les données\n",
    "- réaliser l'étude d'association pangénomique de type cas/contrôles et de type familial\n",
    "- interpréter vos résultats en comparaison avec les articles publiés par le Type 1 Diabetes Genetics Consortium (Onengut-Gumuscu  S, et al., 2015, Robertson CC et al., 2021).\n",
    "\n",
    "\n",
    "⚠️ <mark>Vous aurez 3 notebooks: un pour chaque séance de TP</mark>\n",
    "\n",
    "### Références\n",
    "1. Trynka G, et al. Dense genotyping identifies and localizes multiple common and rare variant association signals in celiac disease. Nature Genetics 43, 1193–1201 (2011) doi.org/10.1038/ng.998<br>\n",
    "2. Parkes M, et al. Genetic insight into common pathways and complex relationships among immune-mediated diseases. Nature Genetics 14, 661-673 (2013) doi.org/10.1038/nrg3502<br>\n",
    "3. Marees AT et al. A tutorial on conducting genome‐wide association studies: Quality control and statistical analysis. Int J Methods Psychiatr Res. 27:e1608. (2018) doi.org/10.1002/mpr.1608<br>\n",
    "4. Onengut-Gumuscu S et al. Fine mapping of type 1 diabetes susceptibility loci and evidence for colocalization of causal variants with lymphoid gene enhancers. Nature Genetics 47, 381–386 (2015) doi.org/10.1038/ng.3245<br>\n",
    "5. Robertson CC et al. (2021). Fine-mapping, trans-ancestral and genomic analyses identify causal variants, cells, genes and drug targets for type 1 diabetes. Nature Genetics 53, 962–971 (2021). doi.org/10.1038/s41588-021-00880-5\n",
    "\n"
   ]
  },
  {
   "cell_type": "markdown",
   "metadata": {},
   "source": [
    "\n",
    "## **I - Première partie: évaluation de la faisabilité de l'étude**\n",
    "---\n",
    "\n",
    "Avant d'entamer toute étude de génétique, il est nécessaire d'évaluer l'état des connaissances et de vérifier si l'étude prévue aura la puissance nécessaire pour identifier des associations génétiques.\n",
    "\n",
    "\n",
    "### **1.A. Quelles sont les régions génétiques déjà associées au DT1 ?**\n",
    "\n",
    "Pour répondre à cette question, vous allez étudier le résultats publiés par par Onengut-Gumuscu et al. Nature Genetics (2015), présentant les derniers résultats de GWAS publiés par le consortium international de l'étude du diabète de type 1 (T1DGC for Type 1 Diabetes genetics Consortium). L'article au format .pdf est présent sur moodle et dans votre environnement jupyterlab."
   ]
  },
  {
   "cell_type": "markdown",
   "metadata": {},
   "source": [
    "<span style=\"color:blue\"><b>Q1.1.</b><i> Combien de <b>régions génomiques</b> avaient été impliquées dans le diabète de type I (DT1) avant le démarrage de l'étude ?</i></span>"
   ]
  },
  {
   "cell_type": "markdown",
   "metadata": {},
   "source": [
    "*votre réponse...*"
   ]
  },
  {
   "cell_type": "markdown",
   "metadata": {},
   "source": [
    "<span style=\"color:blue\"><b>Q1.2.</b><i> Dans quels buts a été conçue l'<b>Immunochip</b> ? Quelle a été la stratégie de conception de l'Immunochip ?</i></span>"
   ]
  },
  {
   "cell_type": "markdown",
   "metadata": {},
   "source": [
    "*votre réponse...*"
   ]
  },
  {
   "cell_type": "markdown",
   "metadata": {},
   "source": [
    "<span style=\"color:blue\"><b>Q1.3.</b><i> Quelle est la <b>structure des échantillons</b>? Combien de cas et de contrôles ont été étudiés après QC (Quality Controls sur les SNPs et sur les sujets) ? Quelle est leur origine géographique?</i></span>"
   ]
  },
  {
   "cell_type": "markdown",
   "metadata": {},
   "source": [
    "*votre réponse...*"
   ]
  },
  {
   "cell_type": "markdown",
   "metadata": {},
   "source": [
    "<span style=\"color:blue\"><b>Q1.4.</b><i> Combien de <b>SNPs</b> ont passé les seuils de QC ? </i></span>"
   ]
  },
  {
   "cell_type": "markdown",
   "metadata": {},
   "source": [
    "*votre réponse...*"
   ]
  },
  {
   "cell_type": "markdown",
   "metadata": {},
   "source": [
    "<span style=\"color:blue\"><b>Q1.5.</b><i> Avec R, calculer la valeur de <b>seuil de Bonferroni pour le nombre de SNPs ayant passé les QCs</b>. S'agit-il du seuil utilisé dans l'artcile? </i></span>"
   ]
  },
  {
   "cell_type": "code",
   "execution_count": null,
   "metadata": {},
   "outputs": [],
   "source": [
    "%%R\n",
    "#cell 6 et votre code R"
   ]
  },
  {
   "cell_type": "markdown",
   "metadata": {},
   "source": [
    "*votre réponse...*\n"
   ]
  },
  {
   "cell_type": "markdown",
   "metadata": {},
   "source": [
    "<span style=\"color:blue\"><b>Q1.6.</b><i> En dehors du CMH qui n'est pas étudié dans cet article, <b>combien de régions ont été trouvées associées</b> à leur seuil? En bas de la colonne 2 de la 1ère page de l'article, combien de régions les auteurs répliquent-ils et combien de nouvelles régions sont associées au seuil 5e-8 ?</i></span>"
   ]
  },
  {
   "cell_type": "markdown",
   "metadata": {},
   "source": [
    "*votre réponse...*"
   ]
  },
  {
   "cell_type": "markdown",
   "metadata": {},
   "source": [
    "<span style=\"color:blue\"><b>Q1.7.</b><i> Quelle <b>version de la séquence de référence</b> du génome est utilisée dans cet article?</i></span>"
   ]
  },
  {
   "cell_type": "markdown",
   "metadata": {},
   "source": [
    "*votre réponse...*\n"
   ]
  },
  {
   "cell_type": "markdown",
   "metadata": {},
   "source": [
    "<div class=\"alert alert-block alert-warning\"><b>Pour information :</b><br>\n",
    "<b>Jusque juin 2021</b>, l'ensemble des études pangénomiques sur le DT1 réalisées essentiellement par le T1DGC (Type 1 Diabetes Genetics Consortium) avait permis d'identifier 52 régions associées de manière significative au seuil pangénomique 5x10-8. Cinq autres régions avaient été associées de manière suggestives au seuil 5x10-5  : 2q11.2, 6q23.3, 11q13.1, 14q24.1 et 17q21.31, les 4 premières étant associées de manière significative à une autre maladie autoimmune ou inflammatoire.<br>\n",
    "<b>A ce jour, 78 régions significatives sont connues </b>. En effet, 36 nouvelles régions ont été indetifiées comme présentant une association significative dans la dernière étude d'association pangéomique publiée en juin dernier (Robertson CC, Nature Genetics 2021). Cette étude doublait la taille de l'échantillon par rapport aux précédentes  avec plus de 61 000 sujets de plusieurs ascendances (Européenne, AFricaine, Finnoise, Est-Asiatiques et autres populations mélangées). L'étude portait toujours sur le génotypage au moyen de l'immunochip et a inclus également l'imputation de 137k à 322k SNPs selon les populations. La publication est disponible sur moodle.\n",
    "</div>"
   ]
  },
  {
   "cell_type": "markdown",
   "metadata": {},
   "source": [
    "### **I.B. Quelle est la puissance de détecter les mêmes associations ou de nouvelles associations avec des effets comparables ?**\n",
    "\n",
    "Dans cette partie, vous allez évaluer la capacité de répliquer les effets déjà publiés dans une cohorte française génotypée au moyen de l'immunochip. Vous réaliserez le GWAS de cette cohorte dans les prochaines séances de TP.\n",
    "\n",
    "Pour rappel, dans un test d'association génétique:\n",
    "\n",
    "- `l'hypothèse nulle (H0)` correspond à l'absence d'association, c'est à dire qu'il n'y a pas d'effet: les fréquences alléliques sont identiques entre cas et contrôles.\n",
    "\n",
    "- `l'hypothèse alternative (H1)` est celle de l'absence d'égalité des fréquences alléliques: il existe un effet, c'est à dire une association allélique.\n",
    "\n",
    "En statistiques, on définit la `puissance` comme la probabilité de detecter un effet s'il existe. Il s'agit de la probabilité de rejeter H0 sachant que H0 n'est pas vraie. Il faut connaitre une hypothèse H1 spécifique, c'est-à-dire connaitre l'amplitude de l'effet en question. Dans une étude d'association génétique, l'OR correspond à l'effet. \n",
    "\n",
    "Dans le cas d'un test de comparaison de fréquences, il faut également connaître la fréquence de chaque groupe, cas et contrôles sous H1. Connaissant la fréquence de contrôles et l'OR, vous pouvez déduire la fréquence des cas en admettant des effectifs de taille similaire entre cas et contrôles (voir formule plus bas).\n",
    "\n",
    "Si vous ne génotypez pas directement le SNP reporté comme étant associé, mais un SNP en déséquilibre de liaison (DL) avec lui, certains outils de calcul de puissance vous demandent de renseigner ce DL. Dans ce TP, nous espérons que le variant associé est bien inclus dans l'immunochip. Nous supposerons donc que nous testons directement le variant associé pour les calculs de puissance.\n",
    "\n",
    "<div class=\"alert alert-block alert-warning\"><b>En pratique</b><br>Vous allez calculer la puissance pour une taille d'échantillon donnée que vous ferez varier de 50 à 5 000 (pour chaque groupe, cas et contrôles) pour les deux meilleures régions associées au DT1 à ce jour après le CMH:<ul>\n",
    "    <li>la région du gène de l'Insuline (<i>INS</i>) en 11p15.5:  chr11:2092701-2260001</li>\n",
    "    <li>le gène <i>PTPN22</i> en 1p13.2: chr1:113288123-114009223</li></ul>\n",
    "</div>\n",
    "\n",
    "\n",
    "- **collecte des informations des 3 meilleures régions associées avant calcul de puissance:**\n",
    "\n",
    "Pour calculer la puissance, vous devez collecter des informations concernant les régions déjà associées.\n",
    "\n",
    "A titre de référence et pour comparaison, nous vous fournissons les valeurs pour la région du CMH (en 6p21.3 : chr6:32350867-32714887) et les résultats du calcul de puissance dans les tableaux 1 et 2 ci-dessous que vous complèterez. Vous pouvez aussi compléter les tableaux sur le document google partagé à ce line: https://docs.google.com/spreadsheets/d/1M6C4cbVxKXgWMUIWA10pisS6AXS4RJHzZRUBlP2gij0/edit?usp=sharing.\n",
    "\n",
    "<center><b>Tableau 1.</b> Valeurs de référence pour les top SNPs des 3 meilleurs régions associées au DT1</center>"
   ]
  },
  {
   "cell_type": "markdown",
   "metadata": {},
   "source": [
    "| **région** |   **SNP** | **allèles** | **p-value** | **OR pour mineur** |                    **OR pour majeur** | **MAF** | **freq majeur** |                            **freq allèle mineur patients** | **freq allèle majeur patients** |\n",
    "|-----------:|----------:|------------:|------------:|-------------------:|--------------------------------------:|--------:|----------------:|-----------------------------------------------------------:|--------------------------------:|\n",
    "|        CMH | rs6916742 |         C>T |      <e-100 |               0.24 | 4.17                          =1/0.24 |    0.39 |            0.61 | 0.13                          =0.39*0.24(1-0.39+0.39*0.24) |                            0.87 |\n",
    "|        INS |           |             |             |                    |                                       |         |                 |                                                            |                                 |\n",
    "|     PTPN22 |           |             |             |                    |                                       |         |                 |                                                            |                                 |\n"
   ]
  },
  {
   "cell_type": "markdown",
   "metadata": {},
   "source": [
    "<span style=\"color:blue\"><b>Q1.8.</b><i> Pour les deux régions, complétez les colonnes du Tableau 1 à partir des valeurs de l'article Onengut-Gumuscu et al. 2015 :</span><ul>\n",
    "    <span style=\"color:blue\"><li>le top SNP (celui qui a la p-value la plus faible) et ses allèles Majeur>Mineur</li>\n",
    "    <li>la p-value de l'association au DT1</li>\n",
    "    <li>l'OR de risque correspondant</li>\n",
    "    <li>la fréquence de l'allèle de risque chez les contrôles de l'étude</i></li></ul></span>"
   ]
  },
  {
   "cell_type": "markdown",
   "metadata": {},
   "source": [
    "*Entrez ici d'éventuelles explications pour compléter le tableau...*\n"
   ]
  },
  {
   "cell_type": "markdown",
   "metadata": {},
   "source": [
    "- **Calcul de puissance pour les 3 meilleures régions associées:**\n",
    "\n",
    "A présent vous pouvez calculer la puissance de détecter ces mêmes effets ou des effets d'amplitude similaire, connaissant la fréquence de l'allèle de risque associé et l'OR.\n",
    "\n",
    "Il existe plusieurs outils permettant de calculer la puissance dans le cas d'un test d'association génétique, tels que:\n",
    "<br>- Genetic Power Calculator : http://zzz.bwh.harvard.edu/gpc/\n",
    "<br>- Quanto : http://biostats.usc.edu/Quanto.html\n",
    "<br>- GAS Power Calculator: https://csg.sph.umich.edu/abecasis/gas_power_calculator/index.html\n",
    "\n",
    "Leur utilisation n'est pas si simple car elle ne prend pas en compte les 3 seuls paramètres: OR, fréquence et taille pour déterminer la puissance. Ils prennent également en paramètre d'entrée la prévalence de la maladie (afin de déduire le nombre de contrôles en réalité atteints). Ils peuvent considérer si le SNP testé est le variant causal ou s'il est en DL avec le causal. Il faut alors renseigner soir le DL soit les fréquences génotypiques ou alléliques au SNP testé en plus du causal. Ces outils peuvent aussi prendre en compte différents modèles (additif, dominant, etc...) voire des effets de l'environnement et des interactions. De plus, ils ne prennent pas directement en compte l'OR mais d'autres valeurs d'effet comme le risque relatif par génotype.\n",
    "\n",
    "Dans ce TP, nous avons décidé d'utiliser un **pw, un paquet de R dédié au calcul de puissance pour les tests statistiques classiques** (http://cran.r-project.org/web/packages/pwr/index.html). Ce paquet présente un double avantage: (i) il est générique donc utilisable  en dehors d'un contexte génétique; (ii) il permet de générer une courbe de la puissance en fonction de la taille d'échantillon en une commande.\n",
    "\n",
    "Chargeons le paquet pwr avec la commande suivante:"
   ]
  },
  {
   "cell_type": "code",
   "execution_count": null,
   "metadata": {},
   "outputs": [],
   "source": [
    "%%R\n",
    "# cell 7\n",
    "library(pwr)\n",
    "sessionInfo()"
   ]
  },
  {
   "cell_type": "markdown",
   "metadata": {},
   "source": [
    "\n",
    "\n",
    "Nous l'utiliserons dans le contexte d'un **test statistique du Chi2 à 1 degré de liberté** que nous pouvons utiliser pour un test allélique. La fonction est `pwr.chisq.test()`.\n",
    "Les arguments que nous devons renseigner sont:\n",
    "\n",
    "- `N`: la taille totale des échantillons \n",
    "- `sig.level` : le degré de signification (vous utiliserez le seuil de p-value corrigé pour un GWAS, c'est-à-dire 5x10-8)\n",
    "- `w`: l'effect size selon la définition de Cohen.\n",
    "\n",
    "L'`effect size` peut se mesure de différentes façons dans un test statistique. En génétique, on choisit plutôt l'OR que la différence entre les fréquences alléliques théoriques chez les cas et contrôles. Plus classiquement, cette mesure de l'amplitude de l'effet peut être mesurée par la valeur `d` de Cohen. C'est celle qui est implémentée dans ce paquet. Il n'est pas nécessaire de rentrer dans le détail de cette mesure mais vous pouvez trouver au lien suivant un outil en ligne pour obtenir les conversions d'un OR en valuer d de Cohen ou tout autre mesure de la taille de l'effet: https://www.escal.site/\n",
    "\n",
    "Nous calculerons l'effect size `d` directement dans R au moyen de la formule le reliant à l'OR:</p> \n",
    "\t\t\t\t\t\t\n",
    "> d <- sqrt(3)*ln(OR)/pi\n",
    "\n",
    "Voici ci-dessous les commandes pour calculer la puissance pour la région du CMH à partir d'une taille d'échantillon de 100 et pour générer la courbe puissance ~ taille de l'échantillon:"
   ]
  },
  {
   "cell_type": "code",
   "execution_count": null,
   "metadata": {},
   "outputs": [],
   "source": [
    "%%R\n",
    "# cell 8\n",
    "d_cmh <- sqrt(3)*log(4.17)/pi\n",
    "print(d_cmh)\n",
    "print(pwr.chisq.test(w = d_cmh, df = 1, N = 100, sig.level = 5e-8))\n",
    "\n",
    "plot(pwr.chisq.test(w = d_cmh, df = 1, power = 0.80, sig.level = 5e-8), main=\"CMH\")"
   ]
  },
  {
   "cell_type": "markdown",
   "metadata": {},
   "source": [
    "<span style=\"color:blue\"><b>Q1.9.</b><i> Pour le CMH et les deux régions des gènes de l'INS et PTPN22, complétez les colonnes du Tableau 2 à partir des valeurs de l'article Onengut-Gumuscu et al. 2015 et tracez la courbe puissance ~ taille échantillon.</i></span>"
   ]
  },
  {
   "cell_type": "markdown",
   "metadata": {},
   "source": [
    "<center><b>Tableau 2.</b> Puissance pour les différents effectifs</center>"
   ]
  },
  {
   "cell_type": "markdown",
   "metadata": {},
   "source": [
    "| **région** | **50** | **100** | **200** | **300** | **500** |\n",
    "|-----------:|-------:|--------:|--------:|--------:|--------:|\n",
    "|        CMH |    55% |     99% |    100% |    100% |    100% |\n",
    "|        INS |        |         |         |         |         |\n",
    "|     PTPN22 |        |         |         |         |         |"
   ]
  },
  {
   "cell_type": "code",
   "execution_count": null,
   "metadata": {},
   "outputs": [],
   "source": [
    "%%R\n",
    "#cell 9 pour les calculs"
   ]
  },
  {
   "cell_type": "code",
   "execution_count": null,
   "metadata": {},
   "outputs": [],
   "source": [
    "%%R\n",
    "# cell 10, votre code R pour les figures"
   ]
  },
  {
   "cell_type": "markdown",
   "metadata": {},
   "source": [
    "<span style=\"color:blue\"><b>Q1.10.</b><i> Commentez les résultats.</i></span>"
   ]
  },
  {
   "cell_type": "markdown",
   "metadata": {},
   "source": [
    "<div class=\"alert alert-block alert-warning\"><b>En pratique</b><br>\n",
    "⚠️  On calcule la puissance avant tout projet afin de connaitre la taille des échantillons recquise pour mettre en évidence un effet minimum. Cependant, on recalcule la puissance à la fin de l'étude en fonction des fréquences alléliques effectivement estimées dans notre échantillon afin de s'assurer, en cas d'absence d'association, qu'on avait bien la puissance nécessaire. Pensez-y pour votre compte-rendu!</div>"
   ]
  },
  {
   "cell_type": "markdown",
   "metadata": {},
   "source": [
    "<div class=\"alert alert-block alert-success\"><b>=> Bravo!</b><br>\n",
    "\n",
    "Vous êtes désormais prêts pour mener le GWAS \"cas-contrôles\". mais nous devons encore apprendre à utiliser le logiciel PLINK pour mener cette étude.</div>"
   ]
  },
  {
   "cell_type": "markdown",
   "metadata": {},
   "source": [
    "---\n",
    "---"
   ]
  },
  {
   "cell_type": "markdown",
   "metadata": {
    "tags": []
   },
   "source": [
    "## **II. Deuxième partie: format de fichiers de génétique et découverte du logiciel PLINK**\n",
    "---\n",
    "    \n",
    "### **II.A. Le logiciel PLINK**\n",
    "\n",
    "Pour réaliser l'étude d'association, vous devrez préparer les fichiers sous un format utilisable par les logiciels de génétique. Le principal logiciel que vous utiliserez est **PLINK**: http://zzz.bwh.harvard.edu/plink/.\n",
    "\n",
    "En plus de permettre des analyses d'association, ce logiciel permet de manier les fichiers de génétique, de faire des sélections et filtrages, et de réaliser certains contrôles de qualité. Il est mondialement reconnu comme un des meilleurs outils pour réaliser des GWASs.\n",
    "Ce logiciel libre existe en versions windows, mac et unix.\n",
    "Le tutoriel (http://zzz.bwh.harvard.edu/plink/tutorial.shtml) est très détaillé et donne de nombreux exemples.\n",
    "\n",
    "Ce logiciel a été développé par Shaun Purcell. Il avait alors une double affiliation au Center for Human Genetic Research (CHGR), Massachusetts General Hospital (MGH) et au Broad Institute of Harvard & MIT.  Il est désormais chef de son labo (http://zzz.bwh.harvard.edu/index.html) basé au Brigham & Women's Hospital, affilié à la Harvard Medical School. La version originale actuelle présente sur son site web est la version v1.07 (10-Oct-2009).\n",
    "\n",
    "Il existe à présent une nouvelle version beta **PLINK 1.9** dont l'objectif est principalement d'améliorer la vitesse et la fonctionnalité pour de très gros jeux de données. Ouvrez le lien \"https://www.cog-genomics.org/plink2. Elle a été principalement développée par  par Christopher Chang at Human Longevity, Inc., par Carson Chow and Shashaank Vattikuti at the NIH-NIDDK's Laboratory of Biological Modeling, Laurent Tellier at the BGI Cognitive Genomics Lab, and James Lee at the University of Minnesota, with additional funding from the Purcell Lab at Mount Sinai School of Medicine du BGI Cognitive Genomics Lab! "
   ]
  },
  {
   "cell_type": "markdown",
   "metadata": {},
   "source": [
    "> Dans ce TP, vous utiliserez la version **PLINK 1.9** (https://www.cog-genomics.org/plink2) désormais stable (beta 6.24, 6 Jun 2021) qui a été installée sur adénine. Pour note, il existe une version PLINK2.0 en cours de développement."
   ]
  },
  {
   "cell_type": "markdown",
   "metadata": {},
   "source": [
    "<div class=\"alert alert-block alert-warning\"><b>En pratique</b><br>PLINK s'utilise en lignes de commandes « relativement simples ». \n",
    "Toutes les informations pour spécifier les fichiers d'entrée (« input »), les fichiers de sortie (« output ») et les paramètres d'utilisation sont détaillés dans le menu à gauche de la page d’accueil de PLINK. Dans la <a href=\"http://zzz.bwh.harvard.edu/plink/reference.shtml\">section 4</a> sont listées toutes les commandes existantes.</div>"
   ]
  },
  {
   "cell_type": "markdown",
   "metadata": {},
   "source": [
    "### **II.B. Lancement de PLINK**"
   ]
  },
  {
   "cell_type": "markdown",
   "metadata": {},
   "source": [
    "Pour faire tourner PLINK sous Unix ou dans ce notebook, vous appelez d'abord le programme en tapant : `plink` dans une cellule **bash**. \n",
    "\n",
    "<span style=\"color:red\"><i>N'ayez pas peur de la boite rouge qui apparait. Cet affichage disparaitra quand les commandes seront complètes.</i></span>"
   ]
  },
  {
   "cell_type": "code",
   "execution_count": null,
   "metadata": {},
   "outputs": [],
   "source": [
    "%%bash\n",
    "## cell 11\n",
    "plink"
   ]
  },
  {
   "cell_type": "markdown",
   "metadata": {},
   "source": [
    "Le programme démarre et s'arrête avec une erreur car vous n'avez pas encore donné de fichiers d'entrée (*inputs*)."
   ]
  },
  {
   "cell_type": "markdown",
   "metadata": {},
   "source": [
    "> - Si vous travaillez **avec PLINK 1.07** au lieu de 1.9, PLINK va essayer de se connecter au réseau pour vérifier la version. Si vous voulez l'éviter, ajouter l'argument:`--noweb` avec la commande ```plink --noweb```\n",
    ">\n",
    ">- Si toutefois vous vouliez utiliser PLINK en dehors d'adenine, voici des conseils d'utilisation **sous Windows**:<br>\n",
    ">Vous devez utiliser le DOS en utilisant l'invite de commande (cmd.exe) ou, sur les dernières versions de windows, le \"windows power shell\" à partir du menu \"fichier\" de votre répertoire de travail.  Vos fichiers \"inputs\" doivent être placés dans le même répertoire (=dossier) que l'éxécutable de PLINK plink.exe.\n",
    ">Trois options s'offrent à vous, de la plus compliquée à la plus simple!:\n",
    ">\n",
    ">     **(1)** Dans le menu « Démarrer » de Windows, rechercher « cmd » puis indiquez le chemin du répertoire où est situé plink.exe (pour changer de répertoire, la commande est “cd”; pour passer au répertoire supérieur, taper “cd ..” ; vous pouvez utiliser la flèche de tabulation à gauche du clavier pour autocompléter les noms de dossiers)\n",
    "> \n",
    ">     **(2)** Alternativement, trouvez le fichier cmd.exe (en général dans Windows\\system 32; vous pouvez le trouver aussi dans les accessoires). Faire une copie que vous placez dans le dossier contenant plink.exe. Si vous double-cliquez alors sur cmd.exe dans ce répertoire, vous pouvez utiliser PLINK.\n",
    ">\n",
    ">     **(3)** Encore plus simplement, vous pouvez aussi créer en local un répertoire dans lequel vous mettrez tous vos documents du TP (fichiers d'input, d'output) ainsi que vos programmes. Copiez et collez l'executable plink.exe dans ce répertoire. Copiez et collez également l'exécutable de l'invite de commande cmd.exe dans ce répertoire. Si vous double-cliquez alors sur cmd.exe dans ce répertoire, vous pouvez utiliser PLINK.\n",
    ">\n",
    ">      Alternativement, si vous travaillez depuis windows power shell, il faut spécifier que plink est dans le répertoire de travail en tapant: .\\plink\n",
    "      "
   ]
  },
  {
   "cell_type": "markdown",
   "metadata": {},
   "source": [
    "### **II.C. Fichiers d'entrée**"
   ]
  },
  {
   "cell_type": "markdown",
   "metadata": {},
   "source": [
    "Commençons par nous familiariser avec l'utilisation avec des fichiers « test ».\n",
    "\n",
    "PLINK a besoin de <u>deux types de fichiers d'entrée.</u>\n",
    "\n",
    "- `.ped` pour le fichier de structure de pedigree\n",
    "- `.map` pour le fichier des marqueurs génotypés"
   ]
  },
  {
   "cell_type": "markdown",
   "metadata": {},
   "source": [
    "Dans le répertoire `input` de votre environnement jupyterlab, vous avez des fichiers d'entrée d'exemple avec le préfixe `test.`. Les fichiers sont aussi disponibles sur moodle."
   ]
  },
  {
   "cell_type": "markdown",
   "metadata": {},
   "source": [
    "##### **1. Exploration des fichiers d'entrée en dehors de PLINK**\n",
    "\n",
    "<span style=\"color:red\">Ouvrez-les en double cliquant dessus dans le jupyterlab </span> (ou avec un éditeur de texte comme notepad++ sous windows ou gedit sous unix si vous ne travaillez pas sur adénine).\n",
    "<b>Sans lancer PLINK</b>, cherchez des explications sur leur structure dans la documentation de PLINK à ce lien \"5. Basic usage/data formats\" (http://zzz.bwh.harvard.edu/plink/data.shtml)  du menu. Ne vous arrêtez pas en haut de la page!\n",
    "\n"
   ]
  },
  {
   "cell_type": "markdown",
   "metadata": {},
   "source": [
    "<span style=\"color:blue\"><b>Q2.1</b><i>  Concernant le fichier de structure de <b>pedigree</b>:</i></span>\n",
    "    \n",
    "<span style=\"color:blue\"><i>- Combien de sujets ont été génotypés ?</i></span>"
   ]
  },
  {
   "cell_type": "markdown",
   "metadata": {},
   "source": [
    "*votre réponse*"
   ]
  },
  {
   "cell_type": "markdown",
   "metadata": {},
   "source": [
    "<span style=\"color:blue\"><i>- Sont-ils apparentés ? Ont-ils les mêmes parents ? Quelles colonnes vous donnent ces informations ?</i></span>"
   ]
  },
  {
   "cell_type": "markdown",
   "metadata": {},
   "source": [
    "*votre réponse*"
   ]
  },
  {
   "cell_type": "markdown",
   "metadata": {},
   "source": [
    "<span style=\"color:blue\"><i>- Quel est l'identifiant du 5ème sujet ? Est-il possible de le distinguer des autres sujets en considérant un identifiant unique ?</i></span>"
   ]
  },
  {
   "cell_type": "markdown",
   "metadata": {},
   "source": [
    "*votre réponse*"
   ]
  },
  {
   "cell_type": "markdown",
   "metadata": {},
   "source": [
    "<span style=\"color:blue\"><i>- Quel est le sexe des sujets ? Quelle colonne vous donne cette information ? Est-ce cohérent avec les autres colonnes ?</i></span>"
   ]
  },
  {
   "cell_type": "markdown",
   "metadata": {},
   "source": [
    "*votre réponse*"
   ]
  },
  {
   "cell_type": "markdown",
   "metadata": {},
   "source": [
    "<span style=\"color:blue\"><i>- Connaît-on leur statut vis-à-vis de la maladie ? Combien y a-t-il de cas et de contrôles ?</i></span>"
   ]
  },
  {
   "cell_type": "markdown",
   "metadata": {},
   "source": [
    "*votre réponse*"
   ]
  },
  {
   "cell_type": "markdown",
   "metadata": {},
   "source": [
    "<span style=\"color:blue\"><i>- Combien de marqueurs ont été génotypés pour ces sujets ?</i></span>"
   ]
  },
  {
   "cell_type": "markdown",
   "metadata": {},
   "source": [
    "*votre réponse*"
   ]
  },
  {
   "cell_type": "markdown",
   "metadata": {},
   "source": [
    "<span style=\"color:blue\"><i>- Combien de colonnes contiendraient un fichier de pedigree avec n marqueurs génotypés ?</i></span>"
   ]
  },
  {
   "cell_type": "markdown",
   "metadata": {},
   "source": [
    "*votre réponse*"
   ]
  },
  {
   "cell_type": "markdown",
   "metadata": {},
   "source": [
    "<span style=\"color:blue\"><b>Q1.2.</b><i> Concernant le fichier de <b>marqueurs</b> :</i></span>\n",
    "    \n",
    "<span style=\"color:blue\"><i>- Combien y-a-t-il de marqueurs dans ce fichier ? Est-ce en accord avec le fichier de pedigree ?</i></span>"
   ]
  },
  {
   "cell_type": "markdown",
   "metadata": {},
   "source": [
    "*votre réponse*"
   ]
  },
  {
   "cell_type": "markdown",
   "metadata": {},
   "source": [
    "<span style=\"color:blue\"><i>- Sur quels chromosomes sont-ils situés ?</i></span>"
   ]
  },
  {
   "cell_type": "markdown",
   "metadata": {},
   "source": [
    "*votre réponse*"
   ]
  },
  {
   "cell_type": "markdown",
   "metadata": {},
   "source": [
    "<span style=\"color:blue\"><i>- Connaissez-vous leur position physique ? A partir de quelle origine ?</i></span>"
   ]
  },
  {
   "cell_type": "markdown",
   "metadata": {},
   "source": [
    "*votre réponse*"
   ]
  },
  {
   "cell_type": "markdown",
   "metadata": {},
   "source": [
    "<span style=\"color:blue\"><i>- Connaissez-vous leur position génétique ?</i></span>"
   ]
  },
  {
   "cell_type": "markdown",
   "metadata": {},
   "source": [
    "*votre réponse*"
   ]
  },
  {
   "cell_type": "markdown",
   "metadata": {},
   "source": [
    "##### **2.  Chargement des fichiers dans PLINK**\n",
    "\n",
    "Nous allons à présent charger ces fichiers sans les modifier dans PLINK.<br> Il existe deux commandes possibles.\n",
    "\n",
    "1. ```plink --file input/test```\n",
    "\n",
    "ou\n",
    "\n",
    "2. ```plink --ped input/test.ped --map input/test.map```\n",
    "\n",
    "Dans la 1ère, nous utilisons l'argument `--file` qui nous permet de lire tous les fichiers inputs commençant par le préfixe `test` dans le répertoire `input`.\n",
    "Dans la 2nde commande, nous utilisons un argument pour chaque type de fichier input. Cette seconce commande est plus longue à taper mais permet de charger des inputs qui n'auraient pas le même préfixe.\n",
    "\n",
    "Exécutons ces 2 commandes l'une après l'autre. Elles retournent bien le même résultat. Une erreur apparaît dans les 2 cas. Elle était attendue. Nous reviendrons un peu plus bas sur cette erreur (partie II.E)."
   ]
  },
  {
   "cell_type": "code",
   "execution_count": null,
   "metadata": {},
   "outputs": [],
   "source": [
    "%%bash\n",
    "# cell 12\n",
    "#la premiere commande\n",
    "plink --file input/test"
   ]
  },
  {
   "cell_type": "markdown",
   "metadata": {},
   "source": [
    "Notez que vous avez obtenu un fichier texte de sortie `plink.log` que vous pouvez ouvrir en double cliquant dessus. Il contient tout ce qui s'est affiché à la suite de la commande jusqu'à la ligne d'erreur."
   ]
  },
  {
   "cell_type": "code",
   "execution_count": null,
   "metadata": {},
   "outputs": [],
   "source": [
    "%%bash\n",
    "# cell 13\n",
    "#la deuxième commande\n",
    "plink --ped input/test.ped --map input/test.map"
   ]
  },
  {
   "cell_type": "markdown",
   "metadata": {},
   "source": [
    "Le fichier texte `plink.log` a été mis à jour et contient l'affichage des options/argument de cette 2ème commande. Voyons immédiatement comment  spécifier un nom aux fichiers de sortie pour ne pas les écraser à chaque utilisation de PLINK."
   ]
  },
  {
   "cell_type": "markdown",
   "metadata": {},
   "source": [
    "### **II.D. Spécification des noms de fichier de sortie**"
   ]
  },
  {
   "cell_type": "markdown",
   "metadata": {},
   "source": [
    "A chaque commande PLINK, si vous spécifiez des arguments *(vrai aussi sans argument pour PLINK 1.07)*, des fichiers de sortie (*outputs*) sont automatiquement générés avec différentes extensions. En particulier, vous obtenez un fichier `.log` qui a sauvegardé tout ce qui s'était affiché dans votre terminal ou dans le notebook.\n",
    "\n",
    "Vous pouvez spécifier le préfixe de ces outputs avec l'argument `--out`.\n",
    "\n",
    "Dans PLINK, vous pouvez entrer plusieurs arguments à la suite sur la même ligne de commande. Si vous avez utilisé l'argument `-- out`, tous les autres outputs générés contiendront le même préfixe suivis de leur extension propre. On peut spécifier le répertoire dans lequel ils seront sauvergardés en indiquant le chemin.\n",
    "\n",
    "On réessaye avec les 2 commandes précédentes en spécifiant un préfixe aux fichiers d'output que nous sauvegarderons dans le répertoire `output`"
   ]
  },
  {
   "cell_type": "code",
   "execution_count": null,
   "metadata": {},
   "outputs": [],
   "source": [
    "%%bash\n",
    "# cell 14\n",
    "#la premiere commande avec la spécification de la sortie\n",
    "plink --file input/test --out output/first"
   ]
  },
  {
   "cell_type": "code",
   "execution_count": null,
   "metadata": {},
   "outputs": [],
   "source": [
    "%%bash\n",
    "# cell 15\n",
    "#la deuxième commande\n",
    "plink --ped input/test.ped --map input/test.map --out output/second"
   ]
  },
  {
   "cell_type": "markdown",
   "metadata": {},
   "source": [
    "Cette fois-ci, aucun fichier texte `plink.log` n'a été créé. Après la 1ère commande, un fichier `first.out` a été créé, après la seconde un fichier `second.out` a été créé. Ils sont dans le répertoire `output`. Vous pouvez les ouvrir. Notez qu'il contiennent désormais 2 lignes après « Options in effect ».\n",
    "\n",
    "Un autre fichier a été créé après chaque commande avec l'extension `.fam`. Vous pouvez noter qu'ils contiennent le début du fichier `test.ped` présent dans `input`. Ils sont incomplets car la commande a été interrompue par l'erreur."
   ]
  },
  {
   "cell_type": "markdown",
   "metadata": {},
   "source": [
    "### **II.E. Correspondance des fichiers d'input**"
   ]
  },
  {
   "cell_type": "markdown",
   "metadata": {},
   "source": [
    "<span style=\"color:blue\"><b>Q2.3.</b><i> Quelle erreur avez-vous rencontrée avec la 1ère et la 2ème commande ?</i></span>"
   ]
  },
  {
   "cell_type": "markdown",
   "metadata": {},
   "source": [
    "*Votre réponse...*"
   ]
  },
  {
   "cell_type": "markdown",
   "metadata": {},
   "source": [
    "On apprend désormais que le fichier de pedigree ne contenait les génotypes que de marqueurs autosomiques. On a nettoyé le fichier afin de ne garder que les marqeurs autosomiques. Il a été sauvegardé sous un autre nom (`autosomic.map` déjà dans le répertoire `input`).\n",
    "\n",
    "Chargez-le à présent dans PLINK avec le fichier de pedigree. On n'oublie-pas de changer le préfixe des sorties pour ne pas écraser le précédent fichier .log."
   ]
  },
  {
   "cell_type": "code",
   "execution_count": null,
   "metadata": {},
   "outputs": [],
   "source": [
    "%%bash\n",
    "# cell 16, votre commande"
   ]
  },
  {
   "cell_type": "markdown",
   "metadata": {},
   "source": [
    "<span style=\"color:blue\"><b>Q2.4.</b><i> Les informations obtenues sont-elles désormais cohérentes avec ce que vous savez?</i></span>"
   ]
  },
  {
   "cell_type": "markdown",
   "metadata": {},
   "source": [
    "*votre réponse*"
   ]
  },
  {
   "cell_type": "markdown",
   "metadata": {},
   "source": [
    "\n",
    "<div class=\"alert alert-block alert-warning\"><b>En pratique: </b><br> Cette structure de pedigree et de liste de marqueurs est utilisée par la plupart des logiciels de génétique. Il existe cependant quelques variantes, en particulier pour l'encodage des phénotypes parfois dans un troisième fichier, ou pour le fichier de marqueurs qui ne contient pas toujours la position.\n",
    "\n",
    "<b>L'ordre des colonnes des génotypes dans le fichier de pedigree doit toujours correspondre à l'ordre des marqueurs. Il est donc fondamental de bien formater ses fichiers !</b>\n",
    "</div>"
   ]
  },
  {
   "cell_type": "markdown",
   "metadata": {},
   "source": [
    "### **II.F. Fichiers binaires**\n",
    "\n",
    "PLINK peut travailler avec des formats de fichier de grande taille : nombreux sujets et nombreux génotypes.\n",
    "<br>\n",
    "- Dans ce cas, il existe une **version binaire des fichiers** moins gourmande en espace disque et en temps d'analyse. Consultez la section « Binary PED files » (http://zzz.bwh.harvard.edu/plink/data.shtml#bed) et effectuez la conversion des fichiers test en format binaire en sauvegardant les outputs avec le préfixe `mytest_bdata` en utilisant l'argument `--make-bed`.\n"
   ]
  },
  {
   "cell_type": "code",
   "execution_count": null,
   "metadata": {},
   "outputs": [],
   "source": [
    "%%bash\n",
    "#cell 17, votre commande"
   ]
  },
  {
   "cell_type": "markdown",
   "metadata": {},
   "source": [
    "<span style=\"color:blue\"><b>Q2.5.</b><i>Concernant ce <b>format binaire</b> :</i></span>"
   ]
  },
  {
   "cell_type": "markdown",
   "metadata": {},
   "source": [
    "<span style=\"color:blue\"><i>- Quel fichier est converti en format réellement binaire ? Quelle est l'extension de ce fichier ?</i></span>"
   ]
  },
  {
   "cell_type": "markdown",
   "metadata": {},
   "source": [
    "*votre réponse*"
   ]
  },
  {
   "cell_type": "markdown",
   "metadata": {},
   "source": [
    "<span style=\"color:blue\"><i>- Quels autres fichiers ont été générés ? A quoi correspondent-ils ?</i></span>"
   ]
  },
  {
   "cell_type": "markdown",
   "metadata": {},
   "source": [
    "*votre réponse*"
   ]
  },
  {
   "cell_type": "markdown",
   "metadata": {},
   "source": [
    "<span style=\"color:blue\"><i>- Quelle information n'était pas dans le fichier .map et est désormais présente dans le fichier de marqueurs ?</i></span>"
   ]
  },
  {
   "cell_type": "markdown",
   "metadata": {},
   "source": [
    "*votre réponse*"
   ]
  },
  {
   "cell_type": "markdown",
   "metadata": {},
   "source": [
    "**- Pour lire avec PLINK les fichiers binaires** ainsi générés, on utilise l'argument `--bfile` comme dans la commande suivante (qui s'interrompt car aucune manipulation ni output spécifique en dehors du .log n'a été demandé):"
   ]
  },
  {
   "cell_type": "code",
   "execution_count": null,
   "metadata": {},
   "outputs": [],
   "source": [
    "%%bash\n",
    "# cell 18\n",
    "plink --bfile output/mytest_bdata --out output/load_mytest_bdata"
   ]
  },
  {
   "cell_type": "markdown",
   "metadata": {},
   "source": [
    "- Inversement, il existe un moyen de **convertir des données binaires en format non binaire** (cf. aide la section 6. Data management: http://zzz.bwh.harvard.edu/plink/dataman.shtml) avec l'argument `--recode`"
   ]
  },
  {
   "cell_type": "code",
   "execution_count": null,
   "metadata": {},
   "outputs": [],
   "source": [
    "%%bash\n",
    "# cell 19\n",
    "plink --bfile output/mytest_bdata --recode --out output/mytest_data"
   ]
  },
  {
   "cell_type": "markdown",
   "metadata": {},
   "source": [
    "<span style=\"color:red\"><i>Ne faites pas attention aux chiffres affichés dans la ligne commençant par \"Calculating allele frequencies\" si vous lisez le log directement sur le notebook. Cette même ligne a une apparence normale sans ces chiffres si vous lisez le fichier d'output `.log`.</i></span>"
   ]
  },
  {
   "cell_type": "markdown",
   "metadata": {},
   "source": [
    "<span style=\"color:blue\"><b>Q2.6.</b><i>Quelle différence observez vous entre le <b>nouveau fichier</b> `.ped` et le fichier `.ped` <b>initial</b> ?</i></span>"
   ]
  },
  {
   "cell_type": "markdown",
   "metadata": {},
   "source": [
    "*votre réponse*"
   ]
  },
  {
   "cell_type": "markdown",
   "metadata": {},
   "source": [
    "<div class=\"alert alert-block alert-warning\"><b>En résumé</b><br>\n",
    "Vous avez appris à:<br>\n",
    "    - identifier les commandes de base dans PLINK pour lire les fichiers d'inputs<br>\n",
    "    - ajouter un suffixe aux fichiers d'outputs<br>\n",
    "    - convertir les fichiers entre les formats plats et binaires.<br>\n",
    "    \n",
    "Le rappel de ces commandes, tiré de la liste des commandes PLINK disponibles à <a href=\"http://zzz.bwh.harvard.edu/plink/reference.shtml\">ce lien</a>, est résumé ci-dessous:<br>\n",
    "    \n",
    "\n",
    "<style type=\"text/css\">\n",
    ".tg  {border-collapse:collapse;border-spacing:0;}\n",
    ".tg td{border-color:black;border-style:solid;border-width:1px;font-family:Arial, sans-serif;font-size:14px;\n",
    "  overflow:hidden;padding:10px 5px;word-break:normal;}\n",
    ".tg th{border-color:black;border-style:solid;border-width:1px;font-family:Arial, sans-serif;font-size:14px;\n",
    "  font-weight:normal;overflow:hidden;padding:10px 5px;word-break:normal;}\n",
    ".tg .tg-0pky{border-color:inherit;text-align:left;vertical-align:top}\n",
    "</style>\n",
    "<table class=\"tg\">\n",
    "<thead>\n",
    "  <tr>\n",
    "    <th class=\"tg-0pky\">Option</th>\n",
    "    <th class=\"tg-0pky\">Parameter/default</th>\n",
    "    <th class=\"tg-0pky\">Description</th>\n",
    "  </tr>\n",
    "</thead>\n",
    "<tbody>\n",
    "  <tr>\n",
    "    <td class=\"tg-0pky\">Basic input/output</td>\n",
    "    <td class=\"tg-0pky\"></td>\n",
    "    <td class=\"tg-0pky\"></td>\n",
    "  </tr>\n",
    "  <tr>\n",
    "    <td class=\"tg-0pky\">--file</td>\n",
    "    <td class=\"tg-0pky\"> {plink}&nbsp;&nbsp;&nbsp;&nbsp;&nbsp;&nbsp;&nbsp;&nbsp;&nbsp;</td>\n",
    "    <td class=\"tg-0pky\">&nbsp;&nbsp;Specify .ped and .map files</td>\n",
    "  </tr>\n",
    "  <tr>\n",
    "    <td class=\"tg-0pky\">--ped</td>\n",
    "    <td class=\"tg-0pky\">&nbsp;&nbsp;{plink.ped}&nbsp;&nbsp;&nbsp;&nbsp;&nbsp;</td>\n",
    "    <td class=\"tg-0pky\">&nbsp;&nbsp;Specify .ped file</td>\n",
    "  </tr>\n",
    "  <tr>\n",
    "    <td class=\"tg-0pky\">--map</td>\n",
    "    <td class=\"tg-0pky\">&nbsp;&nbsp;{plink.map}&nbsp;&nbsp;&nbsp;&nbsp;&nbsp;</td>\n",
    "    <td class=\"tg-0pky\">&nbsp;&nbsp;Specify .map file</td>\n",
    "  </tr>\n",
    "  <tr>\n",
    "    <td class=\"tg-0pky\">--bfile</td>\n",
    "    <td class=\"tg-0pky\"> {plink}&nbsp;&nbsp;&nbsp;&nbsp;&nbsp;&nbsp;&nbsp;&nbsp;</td>\n",
    "    <td class=\"tg-0pky\">&nbsp;&nbsp;Specify .bed, .bim and .fam</td>\n",
    "  </tr>\n",
    "  <tr>\n",
    "    <td class=\"tg-0pky\">--bed</td>\n",
    "    <td class=\"tg-0pky\"> {plink.bed}&nbsp;&nbsp;&nbsp;&nbsp;&nbsp;&nbsp;&nbsp;&nbsp;&nbsp;&nbsp;&nbsp;</td>\n",
    "    <td class=\"tg-0pky\">&nbsp;&nbsp;Specify .bed file</td>\n",
    "  </tr>\n",
    "  <tr>\n",
    "    <td class=\"tg-0pky\">--bim</td>\n",
    "    <td class=\"tg-0pky\"> {plink.bim}&nbsp;&nbsp;&nbsp;&nbsp;&nbsp;&nbsp;&nbsp;&nbsp;&nbsp;&nbsp;&nbsp;</td>\n",
    "    <td class=\"tg-0pky\">&nbsp;&nbsp;Specify .bim file</td>\n",
    "  </tr>\n",
    "  <tr>\n",
    "    <td class=\"tg-0pky\">--fam</td>\n",
    "    <td class=\"tg-0pky\"> {plink.fam}&nbsp;&nbsp;&nbsp;&nbsp;&nbsp;&nbsp;&nbsp;&nbsp;&nbsp;&nbsp;&nbsp;</td>\n",
    "    <td class=\"tg-0pky\">&nbsp;&nbsp;Specify .fam file</td>\n",
    "  </tr>\n",
    "  <tr>\n",
    "    <td class=\"tg-0pky\">--out</td>\n",
    "    <td class=\"tg-0pky\"> {plink}&nbsp;&nbsp;&nbsp;&nbsp;&nbsp;&nbsp;&nbsp;&nbsp;&nbsp;&nbsp;</td>\n",
    "    <td class=\"tg-0pky\">&nbsp;&nbsp;Specify output root filename</td>\n",
    "  </tr>\n",
    "  <tr>\n",
    "    <td class=\"tg-0pky\">Other data management options</td>\n",
    "    <td class=\"tg-0pky\"></td>\n",
    "    <td class=\"tg-0pky\"></td>\n",
    "  </tr>\n",
    "  <tr>\n",
    "    <td class=\"tg-0pky\">--make-bed</td>\n",
    "    <td class=\"tg-0pky\">&nbsp;&nbsp;&nbsp;&nbsp;&nbsp;&nbsp;&nbsp;&nbsp;&nbsp;&nbsp;&nbsp;&nbsp;&nbsp;&nbsp;&nbsp;&nbsp;&nbsp;&nbsp;</td>\n",
    "    <td class=\"tg-0pky\">&nbsp;&nbsp;Make .bed, .fam and .bim</td>\n",
    "  </tr>\n",
    "  <tr>\n",
    "    <td class=\"tg-0pky\">--recode</td>\n",
    "    <td class=\"tg-0pky\">&nbsp;&nbsp;&nbsp;&nbsp;&nbsp;&nbsp;&nbsp;&nbsp;&nbsp;&nbsp;&nbsp;&nbsp;&nbsp;&nbsp;&nbsp;&nbsp;&nbsp;&nbsp;&nbsp;&nbsp;</td>\n",
    "    <td class=\"tg-0pky\">&nbsp;&nbsp;Output new .ped and .map files</td>\n",
    "  </tr>\n",
    "</tbody>\n",
    "</table>\n",
    "</div>"
   ]
  },
  {
   "cell_type": "markdown",
   "metadata": {},
   "source": [
    "<div class=\"alert alert-block alert-success\"><b>=> Bravo !</b><br>Vous avez fait un bel effort pour apprendre à utiliser PLINK avec les commandes de base. Vous êtes désormais prêts à travailler avec de vrais fichiers de patients (les cas) et de contrôles. Nettoyez juste avant le dossier « output » de ces fichiers d'entrainement (rm = remove) avec la commande suivante:</div>"
   ]
  },
  {
   "cell_type": "code",
   "execution_count": null,
   "metadata": {},
   "outputs": [],
   "source": [
    "%%bash\n",
    "# cell 20\n",
    "rm output/*"
   ]
  },
  {
   "cell_type": "markdown",
   "metadata": {},
   "source": [
    "Suite du TP dans le prochain notebook!\n",
    "\n",
    "---\n",
    "---"
   ]
  },
  {
   "cell_type": "markdown",
   "metadata": {},
   "source": [
    "<div class=\"alert alert-block alert-info\"> \n",
    "    \n",
    "<b>Rappel</b>, dans un notebook :\n",
    "\n",
    "- la combinaison de touches <kbd>Ctrl</kbd>+<kbd>Entrée</kbd> exécute une cellule.<br>\n",
    "- la combinaison de touches <kbd>Shift</kbd>+<kbd>Entrée</kbd> exécute une cellule puis passe à la suivante. C'est équivalent à cliquer sur l'icone ▶️ dans la barre de menu du notebook.<br>\n",
    "- la combinaison de touches <kbd>Alt</kbd>+<kbd>Entrée</kbd> exécute une cellule puis en crée une nouvelle (vide) en dessous.<br>\n",
    "\n",
    "Pour ajouter une cellule, vous pouvez aussi cliquer sur l'icone ➕ dans la barre de menu du notebook.\n",
    "- vous pouvez déplacer les cellules en les glissant pour les réorganiser les unes en-dessous des autres.<br>\n",
    "- vous pouvez ajouter des commentaires, soit en commençant la ligne par un \"#\" dans une cellule de code (ces lignes ne seront pas éxécutées), soit dans une nouvelle céllule de type Markdown.<br>\n",
    "- vous sélectionner le type de cellule dans le menu en haut de votre Vnotebbok.<br>\n",
    "    - \"Code\" pour entrer des lignes de commande à éxécuter <br>\n",
    "    - \"Markdown pour ajouter du texte balisé qui peut être formatté<br>\n",
    "- pour modifier une cellule ̀Markdown, double-cliquez dessus<br>\n",
    "- attention à la casse des caractères pour les cellules de code<br>\n",
    "- évitez les caractères spéciaux dans les cellules de code<br>\n",
    "    \n",
    "<em>  \n",
    "To make nice html reports with markdown: <a href=\"https://dillinger.io/\" title=\"dillinger.io\">html visualization tool 1</a> or <a href=\"https://stackedit.io/app#\" title=\"stackedit.io\">html visualization tool 2</a>, <a href=\"https://www.tablesgenerator.com/markdown_tables\" title=\"tablesgenerator.com\">to draw nice tables</a>, and the <a href=\"https://medium.com/analytics-vidhya/the-ultimate-markdown-guide-for-jupyter-notebook-d5e5abf728fd\" title=\"Ultimate guide\">Ultimate guide</a>. <br>\n",
    "Further reading on JupyterLab notebooks: <a href=\"https://jupyterlab.readthedocs.io/en/latest/user/notebook.html\" title=\"Jupyter Lab\">Jupyter Lab documentation</a>.<br>\n",
    "Here we are using JupyterLab interface implemented as part of the <a href=\"https://plasmabio.org/\" title=\"plasmabio.org\">Plasmabio</a> project led by Sandrine Caburet, Pierre Poulain and Claire Vandiedonck.\n",
    "</em>    \n",
    "</div>"
   ]
  },
  {
   "cell_type": "markdown",
   "metadata": {},
   "source": [
    "Les informations de configuration de ce notebook et de l'environnement jupyterlab associé sont disponibles à ce lien: https://github.com/CVandiedonck/T1D_GWAS_long_version\n",
    "\n",
    "*[last version: 15/01/2023 by Claire Vandiedonck]*\n",
    "\n",
    "---"
   ]
  }
 ],
 "metadata": {
  "kernelspec": {
   "display_name": "Python 3 (ipykernel)",
   "language": "python",
   "name": "python3"
  },
  "language_info": {
   "codemirror_mode": {
    "name": "ipython",
    "version": 3
   },
   "file_extension": ".py",
   "mimetype": "text/x-python",
   "name": "python",
   "nbconvert_exporter": "python",
   "pygments_lexer": "ipython3",
   "version": "3.9.15"
  }
 },
 "nbformat": 4,
 "nbformat_minor": 4
}
